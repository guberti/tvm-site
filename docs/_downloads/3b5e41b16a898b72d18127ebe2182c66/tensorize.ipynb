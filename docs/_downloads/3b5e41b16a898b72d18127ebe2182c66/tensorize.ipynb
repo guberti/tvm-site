{
  "cells": [
    {
      "cell_type": "code",
      "execution_count": null,
      "metadata": {
        "collapsed": false
      },
      "outputs": [],
      "source": [
        "%%bash\n# Installs the latest dev build of TVM from PyPI. If you wish to build\n# from source, see https://tvm.apache.org/docs/install/from_source.html\npip install apache-tvm --pre"
      ]
    },
    {
      "cell_type": "markdown",
      "metadata": {},
      "source": [
        "Use Tensorize to Leverage Hardware Intrinsics {#tutorials-tensorize}\n=============================================\n\n**Author**: [Yizhi Liu](https://github.com/yzhliu)\n\nThis is an introduction material on how to perform tensorization in TVM.\n\nBy using schedule primitive `tensorize`{.sourceCode}, people can replace\na unit of computation with the corresponding intrinsics, making it easy\nto leverage handcrafted micro-kernels, as well as extend TVM to support\nnew hardware architectures.\n\nThe purpose of this tutorial is to show the functionality and usage of\ntensorize instead of providing an efficient solution.\n"
      ]
    },
    {
      "cell_type": "code",
      "execution_count": null,
      "metadata": {
        "collapsed": false
      },
      "outputs": [],
      "source": [
        "from __future__ import absolute_import, print_function\n\n\nimport tvm\nfrom tvm import te\nimport tvm.testing\nimport numpy as np"
      ]
    },
    {
      "cell_type": "markdown",
      "metadata": {},
      "source": [
        "Define Matrix Multiplication\n============================\n\nTake matrix multiplication as our example. Matmul first multiply the\ncorresponding elements between two matrix, then accumulate across a\ncertain axis. The following lines describe the computation\n`A * B^T`{.sourceCode} in TVM.\n"
      ]
    },
    {
      "cell_type": "code",
      "execution_count": null,
      "metadata": {
        "collapsed": false
      },
      "outputs": [],
      "source": [
        "N, M, L = 1024, 512, 64\nA = te.placeholder((N, L), name=\"A\")\nB = te.placeholder((M, L), name=\"B\")\nk = te.reduce_axis((0, L), name=\"k\")\nC = te.compute((N, M), lambda i, j: te.sum(A[i, k] * B[j, k], axis=k), name=\"C\")\ns = te.create_schedule(C.op)\nprint(tvm.lower(s, [A, B, C], simple_mode=True))"
      ]
    },
    {
      "cell_type": "markdown",
      "metadata": {},
      "source": [
        "Schedule the Matmul\n===================\n\nNow, suppose we have an accelerator that supports matrix-vector\nmultiplication (GEMV) as a hardware primitive, which can take arbitrary\nsize of reduce axis, but another axis needs to be no larger than 16.\nThus we break down the matmul loops to make the innermost loops a\n(16x64) GEMV.\n"
      ]
    },
    {
      "cell_type": "code",
      "execution_count": null,
      "metadata": {
        "collapsed": false
      },
      "outputs": [],
      "source": [
        "factor = 16\nx, y = C.op.axis\n(z,) = C.op.reduce_axis\nyo, yi = s[C].split(y, factor=factor)\ns[C].reorder(x, yo, yi, z)\nprint(tvm.lower(s, [A, B, C], simple_mode=True))"
      ]
    },
    {
      "cell_type": "markdown",
      "metadata": {},
      "source": [
        "As showed in the IR printed above, the inner loops\n`j.inner`{.sourceCode} along with `k`{.sourceCode} together form a\ncomputation of GEMV - within the inner most two loops, the index\n`i`{.sourceCode} is fixed, the access to the matrix `A`{.sourceCode}\nonly varies by `k`{.sourceCode}, which makes the access pattern of\n`A`{.sourceCode} a \\\"vector\\\". In order to leverage our hypothetical\nhardware\\'s GEMV instruction, we can tensorize over\n`j.inner`{.sourceCode}.\n\nDefine GEMV Tensorization Intrinsic\n===================================\n\nBefore scheduling the tensorization, we need to first define the\nintrinsic function for GEMV. It includes two parts, the first is a\ncompute definition of GEMV. TVM uses it to match the computing pattern\nin the original Matmul schedule. The second is to specify how to execute\nGEMV on the device, which is done in `intrin_func`{.sourceCode} below.\n"
      ]
    },
    {
      "cell_type": "code",
      "execution_count": null,
      "metadata": {
        "collapsed": false
      },
      "outputs": [],
      "source": [
        "def intrin_gemv(m, l):\n    a = te.placeholder((l,), name=\"a\")\n    b = te.placeholder((m, l), name=\"b\")\n    k = te.reduce_axis((0, l), name=\"k\")\n    c = te.compute((m,), lambda i: te.sum(a[k] * b[i, k], axis=k), name=\"c\")\n    Ab = tvm.tir.decl_buffer(a.shape, a.dtype, name=\"A\", offset_factor=1, strides=[1])\n    Bb = tvm.tir.decl_buffer(b.shape, b.dtype, name=\"B\", offset_factor=1, strides=[te.var(\"s1\"), 1])\n    Cb = tvm.tir.decl_buffer(c.shape, c.dtype, name=\"C\", offset_factor=1, strides=[1])\n\n    def intrin_func(ins, outs):\n        ib = tvm.tir.ir_builder.create()\n        aa, bb = ins\n        cc = outs[0]\n        ib.emit(\n            tvm.tir.call_extern(\n                \"int32\",\n                \"gemv_update\",\n                cc.access_ptr(\"w\"),\n                aa.access_ptr(\"r\"),\n                bb.access_ptr(\"r\"),\n                m,\n                l,\n                bb.strides[0],\n            )\n        )\n        return ib.get()\n\n    return te.decl_tensor_intrin(c.op, intrin_func, binds={a: Ab, b: Bb, c: Cb})"
      ]
    },
    {
      "cell_type": "markdown",
      "metadata": {},
      "source": [
        "Here `te.decl_tensor_intrin`{.sourceCode} declares how to execute the\ncomputation `c.op`{.sourceCode}. Our implementation simply takes the\ninputs and outputs, converts them to pointers and emit an external\nfunction call. Note that tensorization requires user to specify\n`offset_factor`{.sourceCode}, with this information, TVM has knowledge\nof whether the data is aligned between the start address of the original\ndata structure and the offset being passed to tensorize, so that it has\nchance to optimize with vectorized loading. We set the factor to 1 for\nsimplification.\n\nBuffers are also declared for inputs and outputs, though this is not\nrequired, we benefit from the extra information provided by buffers. For\nexample, we pass `bb.strides[0]`{.sourceCode} as an argument to the\nexternal function `gemv_update`{.sourceCode}. For now\n`bb.strides[0] == l`{.sourceCode}, but later we will see how they can\ndiffer with more complicated schedules.\n\nNote that we use `te.var(\"s1\")`{.sourceCode} as the first stride\ndimension for `B`{.sourceCode}. If the strides can be inferred - in this\ncase, TVM knows tensor B is compact thus the strides are\n`[L, 1]`{.sourceCode} -such placeholder can be put to let TVM\nautomatically bind the inferred value for us.\n"
      ]
    },
    {
      "cell_type": "code",
      "execution_count": null,
      "metadata": {
        "collapsed": false
      },
      "outputs": [],
      "source": [
        "gemv = intrin_gemv(factor, L)\ns[C].tensorize(yi, gemv)\nprint(tvm.lower(s, [A, B, C], simple_mode=True))"
      ]
    },
    {
      "cell_type": "markdown",
      "metadata": {},
      "source": [
        "By tensorizing over `yi`{.sourceCode}, the inner most two loops are now\nreplaced by the intrinsic function we defined before. In order to build\nand run the module, let\\'s define the external function\n`gemv_update`{.sourceCode}, it is a naive implementation of GEMV, just\nfor demonstration.\n"
      ]
    },
    {
      "cell_type": "code",
      "execution_count": null,
      "metadata": {
        "collapsed": false
      },
      "outputs": [],
      "source": [
        "def gemv_impl():\n    cc_code = \"\"\"\n      extern \"C\" int gemv_update(float *cc, float *aa, float *bb, int m, int l, int stride) {\n        for (int i = 0; i < m; ++i) {\n            for (int j = 0; j < l; ++j) {\n                cc[i] += aa[j] * bb[i * stride + j];\n            }\n        }\n        return 0;\n      }\n    \"\"\"\n    from tvm.contrib import utils, clang\n\n    temp = utils.tempdir()\n    ll_path = temp.relpath(\"temp.ll\")\n    # Create LLVM ir from c source code\n    ll_code = clang.create_llvm(cc_code, output=ll_path)\n    return ll_code"
      ]
    },
    {
      "cell_type": "markdown",
      "metadata": {},
      "source": [
        "Now we leverage the pragma attribute `import_llvm`{.sourceCode} to\nimport llvm asm inline. The importing needs to happen before the\ntensorized GEMV being executed.\n"
      ]
    },
    {
      "cell_type": "code",
      "execution_count": null,
      "metadata": {
        "collapsed": false
      },
      "outputs": [],
      "source": [
        "s[C].pragma(x, \"import_llvm\", gemv_impl())\nprint(tvm.lower(s, [A, B, C], simple_mode=True))"
      ]
    },
    {
      "cell_type": "markdown",
      "metadata": {},
      "source": [
        "Finally we compare the tensorize version with that\n`numpy.dot`{.sourceCode} produces, ensure our implementation is correct.\n"
      ]
    },
    {
      "cell_type": "code",
      "execution_count": null,
      "metadata": {
        "collapsed": false
      },
      "outputs": [],
      "source": [
        "func = tvm.build(s, [A, B, C], target=\"llvm\", name=\"gemv\")\n\nfrom tvm.topi.utils import get_const_tuple\n\ndtype = A.dtype\ndev = tvm.device(\"cpu\", 0)\na = np.random.uniform(size=get_const_tuple(A.shape)).astype(dtype)\nb = np.random.uniform(size=get_const_tuple(B.shape)).astype(dtype)\nc = tvm.nd.array(np.zeros(get_const_tuple(C.shape), dtype=dtype), dev)\nfunc(tvm.nd.array(a, dev), tvm.nd.array(b, dev), c)\ntvm.testing.assert_allclose(c.numpy(), np.dot(a, b.T), rtol=1e-3)"
      ]
    },
    {
      "cell_type": "markdown",
      "metadata": {},
      "source": [
        "Reduce-update for Tensorize\n===========================\n\nSo far you have learned the basic idea of tensorize, now let\\'s move one\nstep forward to a more complicated case.\n\nAssume our accelerator could only multiply a vector by a square matrix,\nin which the vector size needs to be no larger than 16. Given such\nhardware constrain, now we need to split the reduce axis as following,\n"
      ]
    },
    {
      "cell_type": "code",
      "execution_count": null,
      "metadata": {
        "collapsed": false
      },
      "outputs": [],
      "source": [
        "zo, zi = s[C].split(z, factor=factor)\ns[C].reorder(x, yo, zo, yi, zi)"
      ]
    },
    {
      "cell_type": "markdown",
      "metadata": {},
      "source": [
        "However, since the tensorize intrinsic now only covers a part of the\nreduce axis, instead of using one \\\"body\\\" function, TVM requires a\n`reduce_reset`{.sourceCode} function, which will be invoked before the\nreduce for-loop, and a `reduce_update`{.sourceCode} function, which\ndefines the \\\"update\\\" computing strategy.\n"
      ]
    },
    {
      "cell_type": "code",
      "execution_count": null,
      "metadata": {
        "collapsed": false
      },
      "outputs": [],
      "source": [
        "def gemv_impl():\n    cc_code = \"\"\"\n      extern \"C\" int gemv_update(float *cc, float *aa, float *bb, int m, int l, int stride) {\n        for (int i = 0; i < m; ++i) {\n            for (int j = 0; j < l; ++j) {\n                cc[i] += aa[j] * bb[i * stride + j];\n            }\n        }\n        return 0;\n      }\n      extern \"C\" int gemv_reset(float *cc, int m) {\n        for (int i = 0; i < m; ++i) {\n            cc[i] = 0.0;\n        }\n        return 0;\n      }\n    \"\"\"\n    from tvm.contrib import utils, clang\n\n    temp = utils.tempdir()\n    ll_path = temp.relpath(\"temp.ll\")\n    # Create LLVM ir from c source code\n    ll_code = clang.create_llvm(cc_code, output=ll_path)\n    return ll_code\n\n\ndef intrin_gemv(m, l):\n    a = te.placeholder((l,), name=\"a\")\n    b = te.placeholder((m, l), name=\"b\")\n    k = te.reduce_axis((0, l), name=\"k\")\n    c = te.compute((m,), lambda i: te.sum(a[k] * b[i, k], axis=k), name=\"c\")\n    Ab = tvm.tir.decl_buffer(a.shape, a.dtype, name=\"A\", offset_factor=1, strides=[1])\n    Bb = tvm.tir.decl_buffer(b.shape, b.dtype, name=\"B\", offset_factor=1, strides=[te.var(\"s1\"), 1])\n    Cb = tvm.tir.decl_buffer(c.shape, c.dtype, name=\"C\", offset_factor=1, strides=[1])\n\n    def intrin_func(ins, outs):\n        aa, bb = ins\n        cc = outs[0]\n\n        def _body():\n            ib = tvm.tir.ir_builder.create()\n            ib.emit(\n                tvm.tir.call_extern(\n                    \"int32\",\n                    \"gemv_update\",\n                    cc.access_ptr(\"w\"),\n                    aa.access_ptr(\"r\"),\n                    bb.access_ptr(\"r\"),\n                    m,\n                    l,\n                    bb.strides[0],\n                )\n            )\n            return ib.get()\n\n        def _reduce_reset():\n            ib = tvm.tir.ir_builder.create()\n            ib.emit(tvm.tir.call_extern(\"int32\", \"gemv_reset\", cc.access_ptr(\"w\"), m))\n            return ib.get()\n\n        def _reduce_update():\n            return _body()\n\n        return _body(), _reduce_reset(), _reduce_update()\n\n    return te.decl_tensor_intrin(c.op, intrin_func, binds={a: Ab, b: Bb, c: Cb})"
      ]
    },
    {
      "cell_type": "markdown",
      "metadata": {},
      "source": [
        "Note that `intrin_func`{.sourceCode} now returns a triplet:\n`(body, reduce_reset, reduce_update)`{.sourceCode}. If tensorization\nincludes all the reduce axes, function `body()`{.sourceCode} will be\ninvoked, otherwise `reduce_reset()`{.sourceCode} and\n`reduce_update()`{.sourceCode} together will be used. In our example\n`body()`{.sourceCode} and `reduce_update()`{.sourceCode} share the same\nimplementation, while in other cases, hardware may have different\ninstructions for these two functions. Moreover, we can see now\n`bb.strides[0]`{.sourceCode} is different from `l`{.sourceCode} due to\nthe tiling.\n\nTensorize for squared GEMV, build and check the results,\n"
      ]
    },
    {
      "cell_type": "code",
      "execution_count": null,
      "metadata": {
        "collapsed": false
      },
      "outputs": [],
      "source": [
        "gemv = intrin_gemv(factor, factor)\ns[C].tensorize(yi, gemv)\ns[C].pragma(yo, \"import_llvm\", gemv_impl())\n\nfunc = tvm.build(s, [A, B, C], target=\"llvm\", name=\"gemv\")\na = np.random.uniform(size=get_const_tuple(A.shape)).astype(dtype)\nb = np.random.uniform(size=get_const_tuple(B.shape)).astype(dtype)\nc = tvm.nd.array(np.zeros(get_const_tuple(C.shape), dtype=dtype), dev)\nfunc(tvm.nd.array(a, dev), tvm.nd.array(b, dev), c)\ntvm.testing.assert_allclose(c.numpy(), np.dot(a, b.T), rtol=1e-3)"
      ]
    },
    {
      "cell_type": "markdown",
      "metadata": {},
      "source": [
        "Summary\n=======\n\nThis tutorial demonstrates the usage of tensorize intrinsic in TVM.\nTensorize provides a way for users to get fully optimized schedule via\nmicro-kernels. For example, INT8 quantization on Intel CPUs uses\ntensorization to invoke AVX instruction directly. It also enables TVM to\ncompile to ASICs -checkout `vta-index`{.interpreted-text role=\"ref\"} for\ndetails. We also demonstrates how to use inline assembly importing,\nwhich helps users inject asm easily into the schedule.\n"
      ]
    }
  ],
  "metadata": {
    "kernelspec": {
      "display_name": "Python 3",
      "language": "python",
      "name": "python3"
    },
    "language_info": {
      "codemirror_mode": {
        "name": "ipython",
        "version": 3
      },
      "file_extension": ".py",
      "mimetype": "text/x-python",
      "name": "python",
      "nbconvert_exporter": "python",
      "pygments_lexer": "ipython3",
      "version": "3.8.10"
    }
  },
  "nbformat": 4,
  "nbformat_minor": 0
}