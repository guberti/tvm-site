{
  "cells": [
    {
      "cell_type": "code",
      "execution_count": null,
      "metadata": {
        "collapsed": false
      },
      "outputs": [],
      "source": [
        "%%bash\n# Installs the latest dev build of TVM from PyPI. If you wish to build\n# from source, see https://tvm.apache.org/docs/install/from_source.html\npip install apache-tvm --pre"
      ]
    },
    {
      "cell_type": "markdown",
      "metadata": {},
      "source": [
        "Writing a Customized Pass\n=========================\n\n**Author**: [Jian Weng](https://were.github.io)\n\nTVM is a framework that abstracts away the heterogenity of machine\nlearning accelerators. Sometimes users may want customize some analysis\nand IR transformations to adapt TVM to their own specialized hardware.\nThis tutorial helps users write a customized pass in TVM.\n\nPrerequisites\n-------------\n\nBefore reading this tutorial, we assume readers have already known these\ntopics well:\n\n-   Writing an algorithm in TVM and schedule it. Otherwise, see example\n    tutorials like `opt-gemm`{.interpreted-text role=\"ref\"}.\n-   The basic structure of HalideIR. Otherwise, see\n    `HalideIR/src/ir/IR.h` to learn what attributes of IR nodes are\n    defined.\n-   Visitor design pattern. Otherwise, check the [Python AST\n    module](https://docs.python.org/3/library/ast.html) to see how an\n    AST visitor is implemented.\n-   How a Schedule is lowered to either an IRModule class or a LLVM\n    module. Otherwise, take a look at `python/tvm/build_module.py` to\n    get some basics.\n"
      ]
    },
    {
      "cell_type": "code",
      "execution_count": null,
      "metadata": {
        "collapsed": false
      },
      "outputs": [],
      "source": [
        "import tvm\nfrom tvm import te\nimport numpy as np"
      ]
    },
    {
      "cell_type": "markdown",
      "metadata": {},
      "source": [
        "We first write a very simple vector add and build it with the default\nschedule. Then, we use our customized lowering pass to manipulate the IR\ndirectly instead of using schedule primitives.\n"
      ]
    },
    {
      "cell_type": "code",
      "execution_count": null,
      "metadata": {
        "collapsed": false
      },
      "outputs": [],
      "source": [
        "n = tvm.tir.const(128, \"int32\")\na = te.placeholder((n,), name=\"a\")\nb = te.placeholder((n,), name=\"b\")\nc = te.compute((n,), lambda i: a[i] + b[i], name=\"c\")\n\nsch = te.create_schedule(c.op)\nir = tvm.lower(sch, [a, b, c])\nprint(ir)"
      ]
    },
    {
      "cell_type": "markdown",
      "metadata": {},
      "source": [
        "Writing a Pass\n==============\n\nEssentially, an \\\"IR transformation pass\\\" is a function which maps a\nstatement to a new statement. Thus, we define this vectorize function\nand implement it step by step.\n"
      ]
    },
    {
      "cell_type": "markdown",
      "metadata": {},
      "source": [
        "TVM already provides two class for users to both analyze and transform\nIR.\n\nIR Visitor\n==========\n\nWe can use `tvm.tir.stmt_functor.post_order_visit(stmt, func)` to gather\ninformation from the Halide IR. `func` is a function callback. This\nfunction will be called before exiting the current IR node, i.e.\npost-order visit. Then we leverage side effects to store the result of\nIR visit, because the return value of `func` will be ignored.\n\n::: {.note}\n::: {.admonition-title}\nNote\n:::\n\nYou MUST use some array to store the result of IR visit. Even the value\nis a single variable. This is mainly due to the constraints in the\nPython-C runtime. The variable values will be refreshed every recursion\nbut the array values will be preserved.\n:::\n"
      ]
    },
    {
      "cell_type": "code",
      "execution_count": null,
      "metadata": {
        "collapsed": false
      },
      "outputs": [],
      "source": [
        "loops = []\n\n\ndef find_width8(op):\n    \"\"\"Find all the 'tir.For' nodes whose extent can be divided by 8.\"\"\"\n    if isinstance(op, tvm.tir.For):\n        if isinstance(op.extent, tvm.tir.IntImm):\n            if op.extent.value % 8 == 0:\n                loops.append(op)"
      ]
    },
    {
      "cell_type": "markdown",
      "metadata": {},
      "source": [
        "IR Transformation\n=================\n\nThe transformation interface is slightly different from the visitor\ninterface. There is only a post-order callback in the visitor, but\ntransformation visitor supports both a pre-order and a post-order\ncallback. If you want to keep the origin IR node, just return None. If\nyou want to change the current node to some node, use TVM IR maker\ninterface to build it and return this value.\n\n::: {.note}\n::: {.admonition-title}\nNote\n:::\n\nIf the pre-order function is called and returns a value which is not\nNone, the post-order function will be skipped.\n:::\n"
      ]
    },
    {
      "cell_type": "code",
      "execution_count": null,
      "metadata": {
        "collapsed": false
      },
      "outputs": [],
      "source": [
        "def vectorize8(op):\n    \"\"\"Split can vectorize the loops found in `find_width8`.\"\"\"\n    if op in loops:\n        extent = op.extent.value\n        name = op.loop_var.name\n        lo, li = te.var(name + \".outer\"), te.var(name + \".inner\")\n        body = tvm.tir.stmt_functor.substitute(op.body, {op.loop_var: lo * 8 + li})\n        body = tvm.tir.For(li, 0, 8, tvm.tir.ForKind.VECTORIZED, body)\n        body = tvm.tir.For(lo, 0, extent // 8, tvm.tir.ForKind.SERIAL, body)\n        return body\n    return None\n\n\n@tvm.tir.transform.prim_func_pass(opt_level=0)\ndef vectorize(f, mod, ctx):\n    global loops\n\n    tvm.tir.stmt_functor.post_order_visit(f.body, find_width8)\n\n    if not loops:\n        return f\n\n    # The last list arugment indicates what kinds of nodes will be transformed.\n    # Thus, in this case only `For` nodes will call `vectorize8`\n    return f.with_body(tvm.tir.stmt_functor.ir_transform(f.body, None, vectorize8, [\"tir.For\"]))"
      ]
    },
    {
      "cell_type": "markdown",
      "metadata": {},
      "source": [
        "Glue to Lowering\n================\n\nSo far, we are done with writing this IR transformation pass. What we\nneed to do next is to glue this pass to TVM\\'s lower pass.\n\nIn this case, we inject the pass written above into the TVM standard\nlowering pass by feeding **a list of tuple** as argument to\n`tir.add_lower_pass`. \\\"Tuple\\\" indicates different phases of lowering.\nIn TVM, there are four phases of lowering and user-customized ones will\nbe called after each phase is done.\n\n::: {.note}\n::: {.admonition-title}\nNote\n:::\n\nHere are the essential transformations done by each phase: - Phase 0\ngenerates the raw IR and loop levels. - Phase 1 flattens the array\nstorage. - Phase 2 transforms loops, like unroll, vectorization and\nthread-binding. - Phase 3 does some cleanup work.\n:::\n\nThus, a good place to put this transformation pass is just after Phase\n1.\n"
      ]
    },
    {
      "cell_type": "code",
      "execution_count": null,
      "metadata": {
        "collapsed": false
      },
      "outputs": [],
      "source": [
        "with tvm.transform.PassContext(config={\"tir.add_lower_pass\": [(1, vectorize)]}):\n    print(tvm.lower(sch, [a, b, c]))"
      ]
    },
    {
      "cell_type": "markdown",
      "metadata": {},
      "source": [
        "Quick View\n==========\n\nThis tutorial gives a quick view of writing a customized IR\ntransformation pass: - Use `tvm.tir.stmt_functor.post_order_visit` to\ngather information on each IR nodes. - Use\n`tvm.tir.stmt_functor.ir_transform` to transform IR nodes. - Wrap up two\nabove to write an IR-transformation function. - Use\n`tvm.transform.PassContext` to put this function to TVM lowering pass\n"
      ]
    }
  ],
  "metadata": {
    "kernelspec": {
      "display_name": "Python 3",
      "language": "python",
      "name": "python3"
    },
    "language_info": {
      "codemirror_mode": {
        "name": "ipython",
        "version": 3
      },
      "file_extension": ".py",
      "mimetype": "text/x-python",
      "name": "python",
      "nbconvert_exporter": "python",
      "pygments_lexer": "ipython3",
      "version": "3.8.10"
    }
  },
  "nbformat": 4,
  "nbformat_minor": 0
}