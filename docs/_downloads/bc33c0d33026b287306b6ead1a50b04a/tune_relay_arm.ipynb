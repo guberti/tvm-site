{
  "cells": [
    {
      "cell_type": "code",
      "execution_count": null,
      "metadata": {
        "collapsed": false
      },
      "outputs": [],
      "source": [
        "%%bash\n# Installs the latest dev build of TVM from PyPI. If you wish to build\n# from source, see https://tvm.apache.org/docs/install/from_source.html\npip install apache-tvm --pre"
      ]
    },
    {
      "cell_type": "markdown",
      "metadata": {},
      "source": [
        "Auto-tuning a Convolutional Network for ARM CPU {#tune_relay_arm}\n===============================================\n\n**Author**: [Lianmin Zheng](https://github.com/merrymercy), [Zhao\nWu](https://github.com/FrozenGene), [Eddie Yan](https://github.com/eqy)\n\nAuto-tuning for a specific ARM device is critical for getting the best\nperformance. This is a tutorial about how to tune a whole convolutional\nnetwork.\n\nThe operator implementation for ARM CPU in TVM is written in template\nform. The template has many tunable knobs (tile factor, vectorization,\nunrolling, etc). We will tune all convolution and depthwise convolution\noperators in the neural network. After tuning, we produce a log file\nwhich stores the best knob values for all required operators. When the\nTVM compiler compiles these operators, it will query this log file to\nget the best knob values.\n\nWe also released pre-tuned parameters for some arm devices. You can go\nto [ARM CPU\nBenchmark](https://github.com/apache/tvm/wiki/Benchmark#arm-cpu) to see\nthe results.\n\nNote that this tutorial will not run on Windows or recent versions of\nmacOS. To get it to run, you will need to wrap the body of this tutorial\nin a `if\n__name__ == \"__main__\":`{.sourceCode} block.\n"
      ]
    },
    {
      "cell_type": "markdown",
      "metadata": {},
      "source": [
        "Install dependencies\n====================\n\nTo use the autotvm package in tvm, we need to install some extra\ndependencies. (change \\\"3\\\" to \\\"2\\\" if you use python2):\n\n``` {.sourceCode .bash}\npip3 install --user psutil xgboost tornado cloudpickle\n```\n\nTo make TVM run faster during tuning, it is recommended to use cython as\nFFI of TVM. In the root directory of TVM, execute (change \\\"3\\\" to \\\"2\\\"\nif you use python2):\n\n``` {.sourceCode .bash}\npip3 install --user cython\nsudo make cython3\n```\n\nNow return to python code. Import packages.\n"
      ]
    },
    {
      "cell_type": "code",
      "execution_count": null,
      "metadata": {
        "collapsed": false
      },
      "outputs": [],
      "source": [
        "import os\n\nimport numpy as np\nimport tvm\nfrom tvm import relay, autotvm\nimport tvm.relay.testing\nfrom tvm.autotvm.tuner import XGBTuner, GATuner, RandomTuner, GridSearchTuner\nfrom tvm.contrib.utils import tempdir\nimport tvm.contrib.graph_executor as runtime"
      ]
    },
    {
      "cell_type": "markdown",
      "metadata": {},
      "source": [
        "Define network\n==============\n\nFirst we need to define the network in relay frontend API. We can load\nsome pre-defined network from `relay.testing`{.sourceCode}. We can also\nload models from MXNet, ONNX and TensorFlow.\n"
      ]
    },
    {
      "cell_type": "code",
      "execution_count": null,
      "metadata": {
        "collapsed": false
      },
      "outputs": [],
      "source": [
        "def get_network(name, batch_size):\n    \"\"\"Get the symbol definition and random weight of a network\"\"\"\n    input_shape = (batch_size, 3, 224, 224)\n    output_shape = (batch_size, 1000)\n\n    if \"resnet\" in name:\n        n_layer = int(name.split(\"-\")[1])\n        mod, params = relay.testing.resnet.get_workload(\n            num_layers=n_layer, batch_size=batch_size, dtype=dtype\n        )\n    elif \"vgg\" in name:\n        n_layer = int(name.split(\"-\")[1])\n        mod, params = relay.testing.vgg.get_workload(\n            num_layers=n_layer, batch_size=batch_size, dtype=dtype\n        )\n    elif name == \"mobilenet\":\n        mod, params = relay.testing.mobilenet.get_workload(batch_size=batch_size)\n    elif name == \"squeezenet_v1.1\":\n        mod, params = relay.testing.squeezenet.get_workload(\n            batch_size=batch_size, version=\"1.1\", dtype=dtype\n        )\n    elif name == \"inception_v3\":\n        input_shape = (batch_size, 3, 299, 299)\n        mod, params = relay.testing.inception_v3.get_workload(batch_size=batch_size, dtype=dtype)\n    elif name == \"mxnet\":\n        # an example for mxnet model\n        from mxnet.gluon.model_zoo.vision import get_model\n\n        block = get_model(\"resnet18_v1\", pretrained=True)\n        mod, params = relay.frontend.from_mxnet(block, shape={\"data\": input_shape}, dtype=dtype)\n        net = mod[\"main\"]\n        net = relay.Function(\n            net.params, relay.nn.softmax(net.body), None, net.type_params, net.attrs\n        )\n        mod = tvm.IRModule.from_expr(net)\n    else:\n        raise ValueError(\"Unsupported network: \" + name)\n\n    return mod, params, input_shape, output_shape"
      ]
    },
    {
      "cell_type": "markdown",
      "metadata": {},
      "source": [
        "Start RPC Tracker\n=================\n\nTVM uses RPC session to communicate with ARM boards. During tuning, the\ntuner will send the generated code to the board and measure the speed of\ncode on the board.\n\nTo scale up the tuning, TVM uses RPC Tracker to manage distributed\ndevices. The RPC Tracker is a centralized controller node. We can\nregister all devices to the tracker. For example, if we have 10 phones,\nwe can register all of them to the tracker, and run 10 measurements in\nparallel, accelerating the tuning process.\n\nTo start an RPC tracker, run this command on the host machine. The\ntracker is required during the whole tuning process, so we need to open\na new terminal for this command:\n\n``` {.sourceCode .bash}\npython -m tvm.exec.rpc_tracker --host=0.0.0.0 --port=9190\n```\n\nThe expected output is\n\n``` {.sourceCode .bash}\nINFO:RPCTracker:bind to 0.0.0.0:9190\n```\n"
      ]
    },
    {
      "cell_type": "markdown",
      "metadata": {},
      "source": [
        "Register Devices to RPC Tracker\n===============================\n\nNow we can register our devices to the tracker. The first step is to\nbuild the TVM runtime for the ARM devices.\n\n-   For Linux: Follow this section\n    `build-tvm-runtime-on-device`{.interpreted-text role=\"ref\"} to build\n    the TVM runtime on the device. Then register the device to tracker\n    by\n\n    ``` {.sourceCode .bash}\n    python -m tvm.exec.rpc_server --tracker=[HOST_IP]:9190 --key=rk3399\n    ```\n\n    (replace `[HOST_IP]`{.sourceCode} with the IP address of your host\n    machine)\n\n-   For Android: Follow this [readme\n    page](https://github.com/apache/tvm/tree/main/apps/android_rpc) to\n    install the TVM RPC APK on the android device. Make sure you can\n    pass the android rpc test. Then you have already registered your\n    device. During tuning, you have to go to developer option and enable\n    \\\"Keep screen awake during changing\\\" and charge your phone to make\n    it stable.\n\nAfter registering devices, we can confirm it by querying rpc\\_tracker\n\n``` {.sourceCode .bash}\npython -m tvm.exec.query_rpc_tracker --host=0.0.0.0 --port=9190\n```\n\nFor example, if we have 2 Huawei mate10 pro, 11 Raspberry Pi 3B and 2\nrk3399, the output can be\n\n``` {.sourceCode .bash}\nQueue Status\n----------------------------------\nkey          total  free  pending\n----------------------------------\nmate10pro    2      2     0\nrk3399       2      2     0\nrpi3b        11     11    0\n----------------------------------\n```\n\nYou can register multiple devices to the tracker to accelerate the\nmeasurement in tuning.\n"
      ]
    },
    {
      "cell_type": "markdown",
      "metadata": {},
      "source": [
        "Set Tuning Options\n==================\n\nBefore tuning, we should apply some configurations. Here I use an RK3399\nboard as example. In your setting, you should modify the target and\ndevice\\_key accordingly. set `use_android`{.sourceCode} to True if you\nuse android phone.\n"
      ]
    },
    {
      "cell_type": "code",
      "execution_count": null,
      "metadata": {
        "collapsed": false
      },
      "outputs": [],
      "source": [
        "#### DEVICE CONFIG ####\n\n# Replace \"aarch64-linux-gnu\" with the correct target of your board.\n# This target is used for cross compilation. You can query it by :code:`gcc -v` on your device.\ntarget = tvm.target.Target(\"llvm -device=arm_cpu -mtriple=aarch64-linux-gnu\")\n\n# Also replace this with the device key in your tracker\ndevice_key = \"rk3399\"\n\n# Set this to True if you use android phone\nuse_android = False\n\n#### TUNING OPTION ####\nnetwork = \"resnet-18\"\nlog_file = \"%s.%s.log\" % (device_key, network)\ndtype = \"float32\"\n\ntuning_option = {\n    \"log_filename\": log_file,\n    \"tuner\": \"xgb\",\n    \"n_trial\": 1500,\n    \"early_stopping\": 800,\n    \"measure_option\": autotvm.measure_option(\n        builder=autotvm.LocalBuilder(build_func=\"ndk\" if use_android else \"default\"),\n        runner=autotvm.RPCRunner(\n            device_key,\n            host=\"127.0.0.1\",\n            port=9190,\n            number=5,\n            timeout=10,\n        ),\n    ),\n}"
      ]
    },
    {
      "cell_type": "markdown",
      "metadata": {},
      "source": [
        "::: {.note}\n::: {.admonition-title}\nNote\n:::\n\nHow to set tuning options\n\nIn general, the default values provided here work well. If you have\nenough time budget, you can set `n_trial`{.sourceCode},\n`early_stopping`{.sourceCode} larger, which makes the tuning run longer.\nIf your device runs very slow or your conv2d operators have many GFLOPs,\nconsidering to set timeout larger.\n\nIf your model has depthwise convolution, you could consider setting\n`try_spatial_pack_depthwise`{.sourceCode} be `True`{.sourceCode}, which\nperform better than default optimization in general. For example, on ARM\nCPU A53 2.0GHz, we find it could boost 1.6x performance of depthwise\nconvolution on Mobilenet V1 model.\n:::\n"
      ]
    },
    {
      "cell_type": "markdown",
      "metadata": {},
      "source": [
        "Begin Tuning\n============\n\nNow we can extract tuning tasks from the network and begin tuning. Here,\nwe provide a simple utility function to tune a list of tasks. This\nfunction is just an initial implementation which tunes them in\nsequential order. We will introduce a more sophisticated tuning\nscheduler in the future.\n"
      ]
    },
    {
      "cell_type": "code",
      "execution_count": null,
      "metadata": {
        "collapsed": false
      },
      "outputs": [],
      "source": [
        "# You can skip the implementation of this function for this tutorial.\ndef tune_tasks(\n    tasks,\n    measure_option,\n    tuner=\"xgb\",\n    n_trial=1000,\n    early_stopping=None,\n    log_filename=\"tuning.log\",\n    use_transfer_learning=True,\n):\n    # create tmp log file\n    tmp_log_file = log_filename + \".tmp\"\n    if os.path.exists(tmp_log_file):\n        os.remove(tmp_log_file)\n\n    for i, tsk in enumerate(reversed(tasks)):\n        prefix = \"[Task %2d/%2d] \" % (i + 1, len(tasks))\n\n        # create tuner\n        if tuner == \"xgb\" or tuner == \"xgb-rank\":\n            tuner_obj = XGBTuner(tsk, loss_type=\"rank\")\n        elif tuner == \"xgb_knob\":\n            tuner_obj = XGBTuner(tsk, loss_type=\"rank\", feature_type=\"knob\")\n        elif tuner == \"xgb_itervar\":\n            tuner_obj = XGBTuner(tsk, loss_type=\"rank\", feature_type=\"itervar\")\n        elif tuner == \"xgb_curve\":\n            tuner_obj = XGBTuner(tsk, loss_type=\"rank\", feature_type=\"curve\")\n        elif tuner == \"ga\":\n            tuner_obj = GATuner(tsk, pop_size=50)\n        elif tuner == \"random\":\n            tuner_obj = RandomTuner(tsk)\n        elif tuner == \"gridsearch\":\n            tuner_obj = GridSearchTuner(tsk)\n        else:\n            raise ValueError(\"Invalid tuner: \" + tuner)\n\n        if use_transfer_learning:\n            if os.path.isfile(tmp_log_file):\n                tuner_obj.load_history(autotvm.record.load_from_file(tmp_log_file))\n\n        # process tuning\n        tsk_trial = min(n_trial, len(tsk.config_space))\n        tuner_obj.tune(\n            n_trial=tsk_trial,\n            early_stopping=early_stopping,\n            measure_option=measure_option,\n            callbacks=[\n                autotvm.callback.progress_bar(tsk_trial, prefix=prefix),\n                autotvm.callback.log_to_file(tmp_log_file),\n            ],\n        )\n\n    # pick best records to a cache file\n    autotvm.record.pick_best(tmp_log_file, log_filename)\n    os.remove(tmp_log_file)"
      ]
    },
    {
      "cell_type": "markdown",
      "metadata": {},
      "source": [
        "Finally, we launch tuning jobs and evaluate the end-to-end performance.\n"
      ]
    },
    {
      "cell_type": "code",
      "execution_count": null,
      "metadata": {
        "collapsed": false
      },
      "outputs": [],
      "source": [
        "def tune_and_evaluate(tuning_opt):\n    # extract workloads from relay program\n    print(\"Extract tasks...\")\n    mod, params, input_shape, _ = get_network(network, batch_size=1)\n    tasks = autotvm.task.extract_from_program(\n        mod[\"main\"], target=target, params=params, ops=(relay.op.get(\"nn.conv2d\"),)\n    )\n\n    # run tuning tasks\n    print(\"Tuning...\")\n    tune_tasks(tasks, **tuning_opt)\n\n    # compile kernels with history best records\n    with autotvm.apply_history_best(log_file):\n        print(\"Compile...\")\n        with tvm.transform.PassContext(opt_level=3):\n            lib = relay.build_module.build(mod, target=target, params=params)\n\n        # export library\n        tmp = tempdir()\n        if use_android:\n            from tvm.contrib import ndk\n\n            filename = \"net.so\"\n            lib.export_library(tmp.relpath(filename), ndk.create_shared)\n        else:\n            filename = \"net.tar\"\n            lib.export_library(tmp.relpath(filename))\n\n        # upload module to device\n        print(\"Upload...\")\n        remote = autotvm.measure.request_remote(device_key, \"127.0.0.1\", 9190, timeout=10000)\n        remote.upload(tmp.relpath(filename))\n        rlib = remote.load_module(filename)\n\n        # upload parameters to device\n        dev = remote.device(str(target), 0)\n        module = runtime.GraphModule(rlib[\"default\"](dev))\n        data_tvm = tvm.nd.array((np.random.uniform(size=input_shape)).astype(dtype))\n        module.set_input(\"data\", data_tvm)\n\n        # evaluate\n        print(\"Evaluate inference time cost...\")\n        print(module.benchmark(dev, number=1, repeat=10))\n\n\n# We do not run the tuning in our webpage server since it takes too long.\n# Uncomment the following line to run it by yourself.\n\n# tune_and_evaluate(tuning_option)"
      ]
    },
    {
      "cell_type": "markdown",
      "metadata": {},
      "source": [
        "Sample Output\n=============\n\nThe tuning needs to compile many programs and extract feature from them.\nSo a high performance CPU is recommended. One sample output is listed\nbelow. It takes about 2 hours on a 32T AMD Ryzen Threadripper.\n\n``` {.sourceCode .bash}\nExtract tasks...\nTuning...\n[Task  1/12]  Current/Best:   22.37/  52.19 GFLOPS | Progress: (544/1000) | 406.59 s Done.\n[Task  2/12]  Current/Best:    6.51/  18.77 GFLOPS | Progress: (608/1000) | 325.05 s Done.\n[Task  3/12]  Current/Best:    4.67/  24.87 GFLOPS | Progress: (480/1000) | 372.31 s Done.\n[Task  4/12]  Current/Best:   11.35/  46.83 GFLOPS | Progress: (736/1000) | 602.39 s Done.\n[Task  5/12]  Current/Best:    1.01/  19.80 GFLOPS | Progress: (448/1000) | 262.16 s Done.\n[Task  6/12]  Current/Best:    2.47/  23.76 GFLOPS | Progress: (672/1000) | 563.85 s Done.\n[Task  7/12]  Current/Best:   14.57/  33.97 GFLOPS | Progress: (544/1000) | 465.15 s Done.\n[Task  8/12]  Current/Best:    1.13/  17.65 GFLOPS | Progress: (576/1000) | 365.08 s Done.\n[Task  9/12]  Current/Best:   14.45/  22.66 GFLOPS | Progress: (928/1000) | 724.25 s Done.\n[Task 10/12]  Current/Best:    3.22/  15.36 GFLOPS | Progress: (864/1000) | 564.27 s Done.\n[Task 11/12]  Current/Best:   11.03/  32.23 GFLOPS | Progress: (736/1000) | 635.15 s Done.\n[Task 12/12]  Current/Best:    8.00/  21.65 GFLOPS | Progress: (1000/1000) | 1111.81 s Done.\nCompile...\nUpload...\nEvaluate inference time cost...\nMean inference time (std dev): 162.59 ms (0.06 ms)\n```\n"
      ]
    },
    {
      "cell_type": "markdown",
      "metadata": {},
      "source": [
        "::: {.note}\n::: {.admonition-title}\nNote\n:::\n\n**Experiencing Difficulties?**\n\nThe auto tuning module is error-prone. If you always see \\\" 0.00/ 0.00\nGFLOPS\\\", then there must be something wrong.\n\nFirst, make sure you set the correct configuration of your device. Then,\nyou can print debug information by adding these lines in the beginning\nof the script. It will print every measurement result, where you can\nfind useful error messages.\n\n``` {.sourceCode .python}\nimport logging\nlogging.getLogger('autotvm').setLevel(logging.DEBUG)\n```\n\nFinally, always feel free to ask our community for help on\n<https://discuss.tvm.apache.org>\n:::\n"
      ]
    }
  ],
  "metadata": {
    "kernelspec": {
      "display_name": "Python 3",
      "language": "python",
      "name": "python3"
    },
    "language_info": {
      "codemirror_mode": {
        "name": "ipython",
        "version": 3
      },
      "file_extension": ".py",
      "mimetype": "text/x-python",
      "name": "python",
      "nbconvert_exporter": "python",
      "pygments_lexer": "ipython3",
      "version": "3.8.10"
    }
  },
  "nbformat": 4,
  "nbformat_minor": 0
}