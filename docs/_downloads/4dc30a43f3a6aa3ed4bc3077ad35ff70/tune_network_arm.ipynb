{
  "cells": [
    {
      "cell_type": "code",
      "execution_count": null,
      "metadata": {
        "collapsed": false
      },
      "outputs": [],
      "source": [
        "%%bash\n# Installs the latest dev build of TVM from PyPI. If you wish to build\n# from source, see https://tvm.apache.org/docs/install/from_source.html\npip install apache-tvm --pre"
      ]
    },
    {
      "cell_type": "markdown",
      "metadata": {},
      "source": [
        "Auto-scheduling a Neural Network for ARM CPU\n============================================\n\n**Author**: [Thierry Moreau](https://github.com/tmoreau89), [Lianmin\nZheng](https://github.com/merrymercy), [Chengfan\nJia](https://github.com/jcf94/)\n\nAuto-tuning for specific devices and workloads is critical for getting\nthe best performance. This is a tutorial on how to tune a whole neural\nnetwork for ARM CPU with the auto-scheduler via RPC.\n\nTo auto-tune a neural network, we partition the network into small\nsubgraphs and tune them independently. Each subgraph is treated as one\nsearch task. A task scheduler slices the time and dynamically allocates\ntime resources to these tasks. The task scheduler predicts the impact of\neach task on the end-to-end execution time and prioritizes the one that\ncan reduce the execution time the most.\n\nFor each subgraph, we use the compute declaration in\n`tvm/python/topi`{.sourceCode} to get the computational DAG in the\ntensor expression form. We then use the auto-scheduler to construct a\nsearch space of this DAG and search for good schedules (low-level\noptimizations).\n\nDifferent from the template-based\n`autotvm <tutorials-autotvm-sec>`{.interpreted-text role=\"ref\"} which\nrelies on manual templates to define the search space, the\nauto-scheduler does not require any schedule templates. In other words,\nthe auto-scheduler only uses the compute declarations in\n`tvm/python/topi`{.sourceCode} and does not use existing schedule\ntemplates.\n\nNote that this tutorial will not run on Windows or recent versions of\nmacOS. To get it to run, you will need to wrap the body of this tutorial\nin a `if\n__name__ == \"__main__\":`{.sourceCode} block.\n"
      ]
    },
    {
      "cell_type": "code",
      "execution_count": null,
      "metadata": {
        "collapsed": false
      },
      "outputs": [],
      "source": [
        "import numpy as np\nimport os\n\nimport tvm\nfrom tvm import relay, auto_scheduler\nfrom tvm.relay import data_dep_optimization as ddo\nimport tvm.relay.testing\nfrom tvm.contrib import graph_executor\nfrom tvm.contrib.utils import tempdir"
      ]
    },
    {
      "cell_type": "markdown",
      "metadata": {},
      "source": [
        "Define a Network\n================\n\nFirst, we need to define the network with relay frontend API. We can\nload some pre-defined network from `tvm.relay.testing`{.sourceCode}. We\ncan also load models from MXNet, ONNX, PyTorch, and TensorFlow (see\n`front end tutorials<tutorial-frontend>`{.interpreted-text role=\"ref\"}).\n\nFor convolutional neural networks, although auto-scheduler can work\ncorrectly with any layout, we found the best performance is typically\nachieved with NHWC layout. We also implemented more optimizations for\nNHWC layout with the auto-scheduler. So it is recommended to convert\nyour models to NHWC layout to use the auto-scheduler. You can use\n`ConvertLayout <convert-layout-usage>`{.interpreted-text role=\"ref\"}\npass to do the layout conversion in TVM.\n"
      ]
    },
    {
      "cell_type": "code",
      "execution_count": null,
      "metadata": {
        "collapsed": false
      },
      "outputs": [],
      "source": [
        "def get_network(name, batch_size, layout=\"NHWC\", dtype=\"float32\", use_sparse=False):\n    \"\"\"Get the symbol definition and random weight of a network\"\"\"\n\n    # auto-scheduler prefers NHWC layout\n    if layout == \"NHWC\":\n        image_shape = (224, 224, 3)\n    elif layout == \"NCHW\":\n        image_shape = (3, 224, 224)\n    else:\n        raise ValueError(\"Invalid layout: \" + layout)\n\n    input_shape = (batch_size,) + image_shape\n    output_shape = (batch_size, 1000)\n\n    if name.startswith(\"resnet-\"):\n        n_layer = int(name.split(\"-\")[1])\n        mod, params = relay.testing.resnet.get_workload(\n            num_layers=n_layer,\n            batch_size=batch_size,\n            layout=layout,\n            dtype=dtype,\n            image_shape=image_shape,\n        )\n    elif name.startswith(\"resnet3d-\"):\n        n_layer = int(name.split(\"-\")[1])\n        mod, params = relay.testing.resnet.get_workload(\n            num_layers=n_layer,\n            batch_size=batch_size,\n            layout=layout,\n            dtype=dtype,\n            image_shape=image_shape,\n        )\n    elif name == \"mobilenet\":\n        mod, params = relay.testing.mobilenet.get_workload(\n            batch_size=batch_size, layout=layout, dtype=dtype, image_shape=image_shape\n        )\n    elif name == \"squeezenet_v1.1\":\n        assert layout == \"NCHW\", \"squeezenet_v1.1 only supports NCHW layout\"\n        mod, params = relay.testing.squeezenet.get_workload(\n            version=\"1.1\",\n            batch_size=batch_size,\n            dtype=dtype,\n            image_shape=image_shape,\n        )\n    elif name == \"inception_v3\":\n        input_shape = (batch_size, 3, 299, 299) if layout == \"NCHW\" else (batch_size, 299, 299, 3)\n        mod, params = relay.testing.inception_v3.get_workload(batch_size=batch_size, dtype=dtype)\n    elif name == \"mxnet\":\n        # an example for mxnet model\n        from mxnet.gluon.model_zoo.vision import get_model\n\n        assert layout == \"NCHW\"\n\n        block = get_model(\"resnet50_v1\", pretrained=True)\n        mod, params = relay.frontend.from_mxnet(block, shape={\"data\": input_shape}, dtype=dtype)\n        net = mod[\"main\"]\n        net = relay.Function(\n            net.params, relay.nn.softmax(net.body), None, net.type_params, net.attrs\n        )\n        mod = tvm.IRModule.from_expr(net)\n    elif name == \"mlp\":\n        mod, params = relay.testing.mlp.get_workload(\n            batch_size=batch_size, dtype=dtype, image_shape=image_shape, num_classes=1000\n        )\n    else:\n        raise ValueError(\"Network not found.\")\n\n    if use_sparse:\n        from tvm.topi.sparse.utils import convert_model_dense_to_sparse\n\n        mod, params = convert_model_dense_to_sparse(mod, params, random_params=True)\n\n    return mod, params, input_shape, output_shape"
      ]
    },
    {
      "cell_type": "markdown",
      "metadata": {},
      "source": [
        "Start RPC Tracker\n=================\n\nTVM uses RPC session to communicate with ARM boards. During tuning, the\ntuner will send the generated code to the board and measure the speed of\ncode on the board.\n\nTo scale up the tuning, TVM uses RPC Tracker to manage distributed\ndevices. The RPC Tracker is a centralized controller node. We can\nregister all devices to the tracker. For example, if we have 10 phones,\nwe can register all of them to the tracker, and run 10 measurements in\nparallel, accelerating the tuning process.\n\nTo start an RPC tracker, run this command on the host machine. The\ntracker is required during the whole tuning process, so we need to open\na new terminal for this command:\n\n``` {.sourceCode .bash}\npython -m tvm.exec.rpc_tracker --host=0.0.0.0 --port=9190\n```\n\nThe expected output is\n\n``` {.sourceCode .bash}\nINFO:RPCTracker:bind to 0.0.0.0:9190\n```\n"
      ]
    },
    {
      "cell_type": "markdown",
      "metadata": {},
      "source": [
        "Register Devices to RPC Tracker\n===============================\n\nNow we can register our devices to the tracker. The first step is to\nbuild the TVM runtime for the ARM devices.\n\n-   For Linux: Follow this section\n    `build-tvm-runtime-on-device`{.interpreted-text role=\"ref\"} to build\n    the TVM runtime on the device. Then register the device to tracker\n    by\n\n    ``` {.sourceCode .bash}\n    python -m tvm.exec.rpc_server --tracker=[HOST_IP]:9190 --key=rasp4b-64\n    ```\n\n    (replace `[HOST_IP]`{.sourceCode} with the IP address of your host\n    machine)\n\n-   For Android: Follow this [readme\n    page](https://github.com/apache/tvm/tree/main/apps/android_rpc) to\n    install the TVM RPC APK on the android device. Make sure you can\n    pass the android rpc test. Then you have already registered your\n    device. During tuning, you have to go to developer option and enable\n    \\\"Keep screen awake during changing\\\" and charge your phone to make\n    it stable.\n\nAfter registering devices, we can confirm it by querying rpc\\_tracker\n\n``` {.sourceCode .bash}\npython -m tvm.exec.query_rpc_tracker --host=0.0.0.0 --port=9190\n```\n\nFor example, if we have 2 Huawei mate10 pro, 11 Raspberry Pi 4B with\n64bit OS, and 2 rk3399, the output can be\n\n``` {.sourceCode .bash}\nQueue Status\n----------------------------------\nkey          total  free  pending\n----------------------------------\nmate10pro    2      2     0\nrk3399       2      2     0\nrasp4b-64    11     11    0\n----------------------------------\n```\n\nYou can register multiple devices to the tracker to accelerate the\nmeasurement in tuning.\n"
      ]
    },
    {
      "cell_type": "markdown",
      "metadata": {},
      "source": [
        "Set Tuning Options\n==================\n\nBefore tuning, we should apply some configurations. Here I use a\nRaspberry Pi 4b 4GB board as example with a 64bit OS (Ubuntu 20.04). In\nyour setting, you should modify the target and device\\_key accordingly.\nset `use_ndk`{.sourceCode} to True if you use android phone.\n"
      ]
    },
    {
      "cell_type": "code",
      "execution_count": null,
      "metadata": {
        "collapsed": false
      },
      "outputs": [],
      "source": [
        "#### DEVICE CONFIG ####\n\n# Replace \"aarch64-linux-gnu\" with the correct target of your board.\n# This target is used for cross compilation. You can query it by :code:`gcc -v` on your device.\n# FIXME(tmoreau89, merrymercy): We leave '-device=arm_cpu' out of the target string\n#                               because we're sharing x86 op strategy.\ntarget = tvm.target.Target(\"llvm -mtriple=aarch64-linux-gnu -mattr=+neon\")\n\n# Also replace this with the device key, rpc host and rpc port in your tracker\ndevice_key = \"rasp4b-64\"\nrpc_host = \"127.0.0.1\"\nrpc_port = 9190\n\n# Set this to True if you use ndk tools for cross compiling\n# And also set the environment variable below to point to the cross compiler\nuse_ndk = False\n# os.environ[\"TVM_NDK_CC\"] = \"/usr/bin/aarch64-linux-gnu-g++\"\n\n#### TUNING OPTION ####\nnetwork = \"mobilenet\"\nuse_sparse = False\nbatch_size = 1\nlayout = \"NHWC\"\ndtype = \"float32\"\nlog_file = \"%s-%s-B%d-%s.json\" % (network, layout, batch_size, target.kind.name)"
      ]
    },
    {
      "cell_type": "markdown",
      "metadata": {},
      "source": [
        "Extract Search Tasks\n====================\n\nNext, we extract the search tasks and their weights from a network. The\nweight of a task is the number of appearances of the task\\'s subgraph in\nthe whole network. By using the weight, we can approximate the\nend-to-end latency of the network as\n`sum(latency[t] * weight[t])`{.sourceCode}, where\n`latency[t]`{.sourceCode} is the latency of a task and\n`weight[t]`{.sourceCode} is the weight of the task. The task scheduler\nwill just optimize this objective.\n"
      ]
    },
    {
      "cell_type": "code",
      "execution_count": null,
      "metadata": {
        "collapsed": false
      },
      "outputs": [],
      "source": [
        "# Extract tasks from the network\nprint(\"Get model...\")\nmod, params, input_shape, output_shape = get_network(\n    network, batch_size, layout, dtype=dtype, use_sparse=use_sparse\n)\nprint(\"Extract tasks...\")\ntasks, task_weights = auto_scheduler.extract_tasks(mod[\"main\"], params, target)\n\nfor idx, task in enumerate(tasks):\n    print(\"========== Task %d  (workload key: %s) ==========\" % (idx, task.workload_key))\n    print(task.compute_dag)"
      ]
    },
    {
      "cell_type": "markdown",
      "metadata": {},
      "source": [
        "Tuning and Evaluation\n=====================\n\nNow, we set some options for tuning and launch the search tasks\n\n-   `num_measure_trials`{.sourceCode} is the number of measurement\n    trials we can use during the tuning. You can set it to a small\n    number (e.g., 200) for a fast demonstrative run. In practice, we\n    recommend setting it around `800 * len(tasks)`{.sourceCode}, which\n    is typically enough for the search to converge. For example, there\n    are 29 tasks in resnet-50, so we can set it as 20000. You can adjust\n    this parameter according to your time budget.\n-   In addition, we use `RecordToFile`{.sourceCode} to dump measurement\n    records into a log file, The measurement records can be used to\n    query the history best, resume the search, and do more analyses\n    later.\n-   see `auto_scheduler.TuningOptions`{.interpreted-text role=\"any\"},\n    `auto_scheduler.LocalRunner`{.interpreted-text role=\"any\"} for more\n    parameters.\n\nAfter auto-tuning, we can compile the network with the best schedules we\nfound. All measurement records are dumped into the log file during\nauto-tuning, so we can read the log file and load the best schedules.\n"
      ]
    },
    {
      "cell_type": "code",
      "execution_count": null,
      "metadata": {
        "collapsed": false
      },
      "outputs": [],
      "source": [
        "def tune_and_evaluate():\n    print(\"Begin tuning...\")\n    tuner = auto_scheduler.TaskScheduler(tasks, task_weights)\n    tune_option = auto_scheduler.TuningOptions(\n        num_measure_trials=200,  # change this to 20000 to achieve the best performance\n        builder=auto_scheduler.LocalBuilder(build_func=\"ndk\" if use_ndk else \"default\"),\n        runner=auto_scheduler.RPCRunner(\n            device_key,\n            host=rpc_host,\n            port=rpc_port,\n            timeout=30,\n            repeat=1,\n            min_repeat_ms=200,\n            enable_cpu_cache_flush=True,\n        ),\n        measure_callbacks=[auto_scheduler.RecordToFile(log_file)],\n    )\n\n    tuner.tune(tune_option)\n\n    # Compile with the history best\n    print(\"Compile...\")\n    with auto_scheduler.ApplyHistoryBest(log_file):\n        with tvm.transform.PassContext(\n            opt_level=3, config={\"relay.backend.use_auto_scheduler\": True}\n        ):\n            lib = relay.build(mod, target=target, params=params)\n\n    # Export library\n    tmp = tempdir()\n    if use_ndk:\n        from tvm.contrib import ndk\n\n        filename = \"net.so\"\n        lib.export_library(tmp.relpath(filename), ndk.create_shared)\n    else:\n        filename = \"net.tar\"\n        lib.export_library(tmp.relpath(filename))\n\n    # Upload module to device\n    print(\"Upload...\")\n    remote = auto_scheduler.utils.request_remote(device_key, rpc_host, rpc_port, timeout=10000)\n    remote.upload(tmp.relpath(filename))\n    rlib = remote.load_module(filename)\n\n    # Create graph executor\n    dev = remote.cpu()\n    module = graph_executor.GraphModule(rlib[\"default\"](dev))\n    data_tvm = tvm.nd.array((np.random.uniform(size=input_shape)).astype(dtype))\n    module.set_input(\"data\", data_tvm)\n\n    # Evaluate\n    print(\"Evaluate inference time cost...\")\n    print(module.benchmark(dev, repeat=3, min_repeat_ms=500))\n\n\n# We do not run the tuning in our webpage server since the server doesn't have a Raspberry Pi,\n# or device tracker running.\n# Uncomment the following line to run it by yourself.\n\n# tune_and_evaluate()"
      ]
    },
    {
      "cell_type": "markdown",
      "metadata": {},
      "source": [
        "::: {.note}\n::: {.admonition-title}\nNote\n:::\n\nExplaining the printed information during tuning\n\nDuring the tuning, a lot of information will be printed on the console.\nThey are used for debugging purposes. The most important info is the\noutput of the task scheduler. The following table is a sample output.\n\n``` {.sourceCode .c}\n----------------------------------------------------------------------\n------------------------------  [ Task Scheduler ]\n----------------------------------------------------------------------\n|  ID  | Latency (ms) | Speed (GFLOPS) | Trials |\n-------------------------------------------------\n|    0 |        0.013 |           0.31 |     64 |\n|    1 |        0.845 |           2.43 |    448 |\n|    2 |        0.046 |          -0.00 |     64 |\n|    3 |        4.194 |          24.53 |   2112 |\n|    4 |        0.109 |           9.21 |     64 |\n|    5 |        1.759 |          29.27 |    896 |\n|    6 |        0.083 |           6.01 |     64 |\n|    7 |        3.084 |          33.38 |   7680 |\n|    8 |        0.136 |          14.78 |    384 |\n|    9 |        1.349 |          38.23 |    768 |\n|   10 |        0.133 |           7.55 |    128 |\n|   11 |        2.747 |          37.56 |   1536 |\n|   12 |        0.338 |          11.87 |    192 |\n|   13 |        1.295 |          40.00 |    704 |\n|   14 |        0.482 |           4.16 |    256 |\n|   15 |        2.686 |          38.56 |   1344 |\n|   16 |        0.884 |           9.08 |    448 |\n|   17 |        1.332 |          39.18 |    704 |\n|   18 |        1.045 |           3.84 |    576 |\n|   19 |        1.391 |          38.09 |    704 |\n|   20 |        0.777 |          10.34 |    448 |\n|   21 |        0.739 |          30.97 |    448 |\n-------------------------------------------------\n Estimated total latency: 38.347 ms      Trials: 19992   Used time : 19260 s     Next ID: 3\n```\n\nThis table lists the latency and (estimated) speed of all tasks. It also\nlists the allocation of measurement trials for all tasks. The last line\nprints the total weighted latency of these tasks, which can be a rough\nestimation of the end-to-end execution time of the network. The last\nline also prints the total number of measurement trials, total time\nspent on auto-tuning and the id of the next task to tune.\n\nThere will also be some \\\"dmlc::Error\\\"s errors, because the\nauto-scheduler will try some invalid schedules. You can safely ignore\nthem if the tuning can continue, because these errors are isolated from\nthe main process.\n:::\n"
      ]
    },
    {
      "cell_type": "markdown",
      "metadata": {},
      "source": [
        "::: {.note}\n::: {.admonition-title}\nNote\n:::\n\nTerminate the tuning earlier\n\nYou can terminate the tuning earlier by forcibly killing this process.\nAs long as you get at least one valid schedule for each task in the log\nfile, you should be able to do the compilation (the secion below).\n:::\n"
      ]
    },
    {
      "cell_type": "markdown",
      "metadata": {},
      "source": [
        "Other Tips\n==========\n\n1.  During the tuning, the auto-scheduler needs to compile many programs\n    and extract feature from them. This part is CPU-intensive, so a\n    high-performance CPU with many cores is recommended for faster\n    search.\n2.  You can use\n    `python3 -m tvm.auto_scheduler.measure_record --mode distill -i log.json`{.sourceCode}\n    to distill the large log file and only save the best useful records.\n3.  You can resume a search from the previous log file. You just need to\n    add a new argument `load_log_file`{.sourceCode} when creating the\n    task scheduler in function `run_tuning`{.sourceCode}. Say,\n    `tuner = auto_scheduler.TaskScheduler(tasks, task_weights, load_log_file=log_file)`{.sourceCode}\n4.  If you have multiple target CPUs, you can use all of them for\n    measurements to parallelize the measurements. Check this\n    `section <tutorials-autotvm-scale-up-rpc-tracker>`{.interpreted-text\n    role=\"ref\"} to learn how to use the RPC Tracker and RPC Server. To\n    use the RPC Tracker in auto-scheduler, replace the runner in\n    `TuningOptions`{.sourceCode} with\n    `auto_scheduler.RPCRunner`{.interpreted-text role=\"any\"}.\n"
      ]
    }
  ],
  "metadata": {
    "kernelspec": {
      "display_name": "Python 3",
      "language": "python",
      "name": "python3"
    },
    "language_info": {
      "codemirror_mode": {
        "name": "ipython",
        "version": 3
      },
      "file_extension": ".py",
      "mimetype": "text/x-python",
      "name": "python",
      "nbconvert_exporter": "python",
      "pygments_lexer": "ipython3",
      "version": "3.8.10"
    }
  },
  "nbformat": 4,
  "nbformat_minor": 0
}