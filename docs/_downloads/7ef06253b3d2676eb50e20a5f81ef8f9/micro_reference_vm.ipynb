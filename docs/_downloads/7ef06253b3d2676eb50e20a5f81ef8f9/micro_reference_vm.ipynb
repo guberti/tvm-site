{
  "cells": [
    {
      "cell_type": "code",
      "execution_count": null,
      "metadata": {
        "collapsed": false
      },
      "outputs": [],
      "source": [
        "%%bash\n# Installs the latest dev build of TVM from PyPI. If you wish to build\n# from source, see https://tvm.apache.org/docs/install/from_source.html\npip install apache-tvm --pre"
      ]
    },
    {
      "cell_type": "markdown",
      "metadata": {},
      "source": [
        "microTVM Reference Virtual Machines {#tutorial-micro-reference-vm}\n===================================\n\n**Author**: [Andrew Reusch](areusch@octoml.ai)\n\nThis tutorial explains how to launch microTVM Reference Virtual\nMachines. You can use these to develop on real physical hardware without\nneeding to individually install the microTVM dependencies. These are\nalso particularly useful when trying to reproduce behavior with\nmicroTVM, such as when filing bug reports.\n\nmicroTVM is the effort to allow TVM to build and execute models on\nbare-metal microcontrollers. microTVM aims to be compatible with a wide\nvariety of SoCs and runtime environments (i.e. bare metal, RTOS, etc).\nHowever, some stable software environment is needed to allow developers\nto share and reproduce bugs and results. The microTVM Reference Virtual\nMachines are intended to provide that environment.\n\nHow it works\n------------\n\nNo Virtual Machines are stored in the TVM repository\\--instead, the\nfiles stored in `apps/microtvm/reference-vm` describe how to build VMs\nto the [Vagrant](https://vagrantup.com) VM builder tool.\n\nThe Reference VMs are split into two parts:\n\n1.  A Vagrant Base Box, which contains all of the stable dependencies\n    for that platform. Build scripts are stored in\n    `apps/microtvm/reference-vm/<platform>/base-box`. TVM committers run\n    these when a platform\\'s \\\"stable\\\" dependencies change, and the\n    generated base boxes are stored in [Vagrant\n    Cloud](https://app.vagrantup.com/tlcpack).\n2.  A per-workspace VM, which users normally build using the Base Box as\n    a starting point. Build scripts are stored in\n    `apps/microtvm/reference-vm/<platform>` (everything except\n    `base-box`).\n\nSetting up the VM\n-----------------\n\n### Installing prerequisites\n\nA minimal set of prerequisites are needed:\n\n1.  [Vagrant](https://vagrantup.com)\n2.  A supported Virtual Machine hypervisor (**VirtualBox**,\n    **Parallels**, or **VMWare Fusion/Workstation**).\n    [VirtualBox](https://www.virtualbox.org) is a suggested free\n    hypervisor, but please note that the [VirtualBox Extension\n    Pack](https://www.virtualbox.org/wiki/Downloads#VirtualBox6.1.16OracleVMVirtualBoxExtensionPack)\n    is required for proper USB forwarding. If using VirtualBox, also\n    consider installing the\n    [vbguest](https://github.com/dotless-de/vagrant-vbguest) plugin.\n3.  If required for your hypervisor, the [Vagrant provider\n    plugin](https://github.com/hashicorp/vagrant/wiki/Available-Vagrant-Plugins#providers)\n    (or see [here](https://www.vagrantup.com/vmware) for VMWare).\n\n### First boot\n\nThe first time you use a reference VM, you need to create the box\nlocally and then provision it.\n\n``` {.sourceCode .bash}\n# Replace zephyr with the name of a different platform, if you are not using Zephyr.\n~/.../tvm $ cd apps/microtvm/reference-vm/zephyr\n# Replace <provider_name> with the name of the hypervisor you wish to use (i.e. virtualbox, parallels, vmware_desktop).\n~/.../tvm/apps/microtvm/reference-vm/zephyr $ vagrant up --provider=<provider_name>\n```\n\nThis command will take a couple of minutes to run and will require 4 to\n5GB of storage on your machine. It does the following:\n\n1.  Downloads the [microTVM base\n    box](https://app.vagrantup.com/tlcpack/boxes/microtvm) and clones it\n    to form a new VM specific to this TVM directory.\n2.  Mounts your TVM directory (and, if using `git-subtree`, the original\n    `.git` repo) into the VM.\n3.  Builds TVM and installs a Python virtualenv with the dependencies\n    corresponding with your TVM build.\n\n### Connect Hardware to the VM\n\nNext, you need to configure USB passthrough to attach your physical\ndevelopment board to the virtual machine (rather than directly to your\nlaptop\\'s host OS).\n\nIt\\'s suggested you setup a device filter, rather than doing a one-time\nforward, because often the device may reboot during the programming\nprocess and you may, at that time, need to enable forwarding again. It\nmay not be obvious to the end user when this occurs. Instructions to do\nthat:\n\n> -   [VirtualBox](https://www.virtualbox.org/manual/ch03.html#usb-support)\n> -   [Parallels](https://kb.parallels.com/122993)\n> -   [VMWare\n>     Workstation](https://docs.vmware.com/en/VMware-Workstation-Pro/15.0/com.vmware.ws.using.doc/GUID-E003456F-EB94-4B53-9082-293D9617CB5A.html)\n\n### Rebuilding TVM inside the Reference VM\n\nAfter the first boot, you\\'ll need to ensure you keep the build, in\n`$TVM_HOME/build-microtvm-zephyr`, up-to-date when you modify the C++\nruntime or checkout a different revision. You can either re-provision\nthe machine (`vagrant provision` in the same directory you ran\n`vagrant up` before) or manually rebuild TVM yourself.\n\nRemember: the TVM `.so` built inside the VM is different from the one\nyou may use on your host machine. This is why it\\'s built inside the\nspecial directory `build-microtvm-zephyr`.\n\n### Logging in to the VM\n\nThe VM should be available to your host only with the hostname\n`microtvm`. You can SSH to the VM as follows:\n\n``` {.sourceCode .bash}\n$ vagrant ssh\n```\n\nThen `cd` to the same path used on your host machine for TVM. For\nexample, on Mac:\n\n``` {.sourceCode .bash}\n$ cd /Users/yourusername/path/to/tvm\n```\n\nRunning tests\n-------------\n\nOnce the VM has been provisioned, tests can be executed using `poetry`:\n\n``` {.sourceCode .bash}\n$ cd apps/microtvm/reference-vm/zephyr\n$ poetry run python3 ../../../../tests/micro/zephyr/test_zephyr.py --board=stm32f746g_disco\n```\n\nIf you do not have physical hardware attached, but wish to run the tests\nusing the local QEMU emulator running within the VM, run the following\ncommands instead:\n\n``` {.sourceCode .bash}\n$ cd /Users/yourusername/path/to/tvm\n$ cd apps/microtvm/reference-vm/zephyr/\n$ poetry run pytest ../../../../tests/micro/zephyr/test_zephyr.py --board=qemu_x86\n```\n"
      ]
    }
  ],
  "metadata": {
    "kernelspec": {
      "display_name": "Python 3",
      "language": "python",
      "name": "python3"
    },
    "language_info": {
      "codemirror_mode": {
        "name": "ipython",
        "version": 3
      },
      "file_extension": ".py",
      "mimetype": "text/x-python",
      "name": "python",
      "nbconvert_exporter": "python",
      "pygments_lexer": "ipython3",
      "version": "3.8.10"
    }
  },
  "nbformat": 4,
  "nbformat_minor": 0
}