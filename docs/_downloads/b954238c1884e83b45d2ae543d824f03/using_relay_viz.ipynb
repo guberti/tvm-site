{
  "cells": [
    {
      "cell_type": "code",
      "execution_count": null,
      "metadata": {
        "collapsed": false
      },
      "outputs": [],
      "source": [
        "%%bash\n# Installs the latest dev build of TVM from PyPI. If you wish to build\n# from source, see https://tvm.apache.org/docs/install/from_source.html\npip install apache-tvm --pre"
      ]
    },
    {
      "cell_type": "markdown",
      "metadata": {},
      "source": [
        "Use Relay Visualizer to Visualize Relay\n=======================================\n\n**Author**: [Chi-Wei Wang](https://github.com/chiwwang)\n\nRelay IR module can contain lots of operations. Although an individual\noperation is usually easy to understand, putting them together can cause\na complicated, hard-to-read graph. Things can get even worse with\noptimization-passes coming into play.\n\nThis utility visualizes an IR module as nodes and edges. It defines a\nset of interfaces including parser, plotter(renderer), graph, node, and\nedges. A default parser is provided. Users can implement their own\nrenderers to render the graph.\n\nHere we use a renderer rendering graph in the text-form. It is a\nlightweight, AST-like visualizer, inspired by [clang\nast-dump](https://clang.llvm.org/docs/IntroductionToTheClangAST.html).\nWe will introduce how to implement customized parsers and renderers\nthrough interface classes.\n\nFor more details, please refer to\n:py`tvm.contrib.relay_viz`{.interpreted-text role=\"mod\"}.\n"
      ]
    },
    {
      "cell_type": "code",
      "execution_count": null,
      "metadata": {
        "collapsed": false
      },
      "outputs": [],
      "source": [
        "from typing import (\n    Dict,\n    Union,\n    Tuple,\n    List,\n)\nimport tvm\nfrom tvm import relay\nfrom tvm.contrib import relay_viz\nfrom tvm.contrib.relay_viz.interface import (\n    VizEdge,\n    VizNode,\n    VizParser,\n)\nfrom tvm.contrib.relay_viz.terminal import (\n    TermGraph,\n    TermPlotter,\n    TermVizParser,\n)"
      ]
    },
    {
      "cell_type": "markdown",
      "metadata": {},
      "source": [
        "Define a Relay IR Module with multiple GlobalVar\n================================================\n\nLet\\'s build an example Relay IR Module containing multiple `GlobalVar`.\nWe define an `add` function and call it in the main function.\n"
      ]
    },
    {
      "cell_type": "code",
      "execution_count": null,
      "metadata": {
        "collapsed": false
      },
      "outputs": [],
      "source": [
        "data = relay.var(\"data\")\nbias = relay.var(\"bias\")\nadd_op = relay.add(data, bias)\nadd_func = relay.Function([data, bias], add_op)\nadd_gvar = relay.GlobalVar(\"AddFunc\")\n\ninput0 = relay.var(\"input0\")\ninput1 = relay.var(\"input1\")\ninput2 = relay.var(\"input2\")\nadd_01 = relay.Call(add_gvar, [input0, input1])\nadd_012 = relay.Call(add_gvar, [input2, add_01])\nmain_func = relay.Function([input0, input1, input2], add_012)\nmain_gvar = relay.GlobalVar(\"main\")\n\nmod = tvm.IRModule({main_gvar: main_func, add_gvar: add_func})"
      ]
    },
    {
      "cell_type": "markdown",
      "metadata": {},
      "source": [
        "Render the graph with Relay Visualizer on the terminal\n======================================================\n\nThe terminal can show a Relay IR module in text similar to clang\nAST-dump. We should see `main` and `AddFunc` function. `AddFunc` is\ncalled twice in the `main` function.\n"
      ]
    },
    {
      "cell_type": "code",
      "execution_count": null,
      "metadata": {
        "collapsed": false
      },
      "outputs": [],
      "source": [
        "viz = relay_viz.RelayVisualizer(mod)\nviz.render()"
      ]
    },
    {
      "cell_type": "markdown",
      "metadata": {},
      "source": [
        "Customize Parser for Interested Relay Types\n===========================================\n\nSometimes we want to emphasize interested information, or parse things\ndifferently for a specific usage. It is possible to provide customized\nparsers as long as it obeys the interface. Here demonstrate how to\ncustomize parsers for `relay.var`. We need to implement abstract\ninterface\n:py`tvm.contrib.relay_viz.interface.VizParser`{.interpreted-text\nrole=\"class\"}.\n"
      ]
    },
    {
      "cell_type": "code",
      "execution_count": null,
      "metadata": {
        "collapsed": false
      },
      "outputs": [],
      "source": [
        "class YourAwesomeParser(VizParser):\n    def __init__(self):\n        self._delegate = TermVizParser()\n\n    def get_node_edges(\n        self,\n        node: relay.Expr,\n        relay_param: Dict[str, tvm.runtime.NDArray],\n        node_to_id: Dict[relay.Expr, str],\n    ) -> Tuple[Union[VizNode, None], List[VizEdge]]:\n\n        if isinstance(node, relay.Var):\n            node = VizNode(node_to_id[node], \"AwesomeVar\", f\"name_hint {node.name_hint}\")\n            # no edge is introduced. So return an empty list.\n            return node, []\n\n        # delegate other types to the other parser.\n        return self._delegate.get_node_edges(node, relay_param, node_to_id)"
      ]
    },
    {
      "cell_type": "markdown",
      "metadata": {},
      "source": [
        "Pass the parser and an interested renderer to visualizer. Here we just\nthe terminal renderer.\n"
      ]
    },
    {
      "cell_type": "code",
      "execution_count": null,
      "metadata": {
        "collapsed": false
      },
      "outputs": [],
      "source": [
        "viz = relay_viz.RelayVisualizer(mod, {}, TermPlotter(), YourAwesomeParser())\nviz.render()"
      ]
    },
    {
      "cell_type": "markdown",
      "metadata": {},
      "source": [
        "Customization around Graph and Plotter\n======================================\n\nBesides parsers, we can also customize graph and renderers by\nimplementing abstract class\n:py`tvm.contrib.relay_viz.interface.VizGraph`{.interpreted-text\nrole=\"class\"} and\n:py`tvm.contrib.relay_viz.interface.Plotter`{.interpreted-text\nrole=\"class\"}. Here we override the `TermGraph` defined in `terminal.py`\nfor easier demo. We add a hook duplicating above `AwesomeVar`, and make\n`TermPlotter` use the new class.\n"
      ]
    },
    {
      "cell_type": "code",
      "execution_count": null,
      "metadata": {
        "collapsed": false
      },
      "outputs": [],
      "source": [
        "class AwesomeGraph(TermGraph):\n    def node(self, viz_node):\n        # add the node first\n        super().node(viz_node)\n        # if it's AwesomeVar, duplicate it.\n        if viz_node.type_name == \"AwesomeVar\":\n            duplicated_id = f\"duplicated_{viz_node.identity}\"\n            duplicated_type = \"double AwesomeVar\"\n            super().node(VizNode(duplicated_id, duplicated_type, \"\"))\n            # connect the duplicated var to the original one\n            super().edge(VizEdge(duplicated_id, viz_node.identity))\n\n\n# override TermPlotter to use `AwesomeGraph` instead\nclass AwesomePlotter(TermPlotter):\n    def create_graph(self, name):\n        self._name_to_graph[name] = AwesomeGraph(name)\n        return self._name_to_graph[name]\n\n\nviz = relay_viz.RelayVisualizer(mod, {}, AwesomePlotter(), YourAwesomeParser())\nviz.render()"
      ]
    },
    {
      "cell_type": "markdown",
      "metadata": {},
      "source": [
        "Summary\n=======\n\nThis tutorial demonstrates the usage of Relay Visualizer and\ncustomization. The class\n:py`tvm.contrib.relay_viz.RelayVisualizer`{.interpreted-text\nrole=\"class\"} is composed of interfaces defined in `interface.py`.\n\nIt is aimed for quick look-then-fix iterations. The constructor\narguments are intended to be simple, while the customization is still\npossible through a set of interface classes.\n"
      ]
    }
  ],
  "metadata": {
    "kernelspec": {
      "display_name": "Python 3",
      "language": "python",
      "name": "python3"
    },
    "language_info": {
      "codemirror_mode": {
        "name": "ipython",
        "version": 3
      },
      "file_extension": ".py",
      "mimetype": "text/x-python",
      "name": "python",
      "nbconvert_exporter": "python",
      "pygments_lexer": "ipython3",
      "version": "3.8.10"
    }
  },
  "nbformat": 4,
  "nbformat_minor": 0
}