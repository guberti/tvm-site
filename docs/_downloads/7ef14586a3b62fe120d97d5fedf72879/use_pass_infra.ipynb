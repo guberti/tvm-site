{
  "cells": [
    {
      "cell_type": "code",
      "execution_count": null,
      "metadata": {
        "collapsed": false
      },
      "outputs": [],
      "source": [
        "%%bash\n# Installs the latest dev build of TVM from PyPI. If you wish to build\n# from source, see https://tvm.apache.org/docs/install/from_source.html\npip install apache-tvm --pre"
      ]
    },
    {
      "cell_type": "markdown",
      "metadata": {},
      "source": [
        "How to Use TVM Pass Infra {#tutorial-use-pass-infra}\n=========================\n\n**Author**: [Zhi Chen](https://github.com/zhiics)\n\nAs the number of optimization passes increases in Relay/tir, it becomes\nintractable to execute them and maintain their dependencies manually.\nTherefore, we have introduced an infrastructure to manage the\noptimization passes and make it applicable to different layers of the IR\nin the TVM stack.\n\nThe optimizations of a Relay/tir program could be applied at various\ngranularity, namely function-level and module-level using\n:py`tvm.relay.transform.FunctionPass`{.interpreted-text role=\"class\"}/\n:py`tvm.tir.transform.PrimFuncPass`{.interpreted-text role=\"class\"} and\n:py`tvm.transform.ModulePass`{.interpreted-text role=\"class\"}\nrespectively. Or users can rely on\n:py`tvm.transform.Sequential`{.interpreted-text role=\"class\"} to apply a\nsequence of passes on a Relay/tir program where the dependencies between\npasses can be resolved by the pass infra. For more details about each\ntype of these passes, please refer to the `pass-infra`{.interpreted-text\nrole=\"ref\"}\n\nThis tutorial mainly demonstrates how developers can use the pass infra\nto perform a certain optimization and create an optimization pipeline\nfor a Relay program. The same approach can be used for tir as well.\n"
      ]
    },
    {
      "cell_type": "code",
      "execution_count": null,
      "metadata": {
        "collapsed": false
      },
      "outputs": [],
      "source": [
        "import numpy as np\nimport tvm\nfrom tvm import te\nimport tvm.relay as relay"
      ]
    },
    {
      "cell_type": "markdown",
      "metadata": {},
      "source": [
        "Create An Example Relay Program\n===============================\n\nFirst of all, we create a simple Relay program for the tutorial. This\nprogram will be used by various optimizations of the examples in this\ntutorial. Similarly, users can write a tir primitive function and apply\nthe tir passes.\n"
      ]
    },
    {
      "cell_type": "code",
      "execution_count": null,
      "metadata": {
        "collapsed": false
      },
      "outputs": [],
      "source": [
        "def example():\n    shape = (1, 64, 54, 54)\n    c_data = np.empty(shape).astype(\"float32\")\n    c = relay.const(c_data)\n    weight = relay.var(\"weight\", shape=(64, 64, 3, 3))\n    x = relay.var(\"x\", relay.TensorType((1, 64, 56, 56), \"float32\"))\n    conv = relay.nn.conv2d(x, weight)\n    y = relay.add(c, c)\n    y = relay.multiply(y, relay.const(2, \"float32\"))\n    y = relay.add(conv, y)\n    z = relay.add(y, c)\n    z1 = relay.add(y, c)\n    z2 = relay.add(z, z1)\n    return relay.Function([x, weight], z2)"
      ]
    },
    {
      "cell_type": "markdown",
      "metadata": {},
      "source": [
        "Optimize the Program\n====================\n\nNow we would like to optimize the program. Relay features a host of\noptimizations. We will select some of them to apply on this example\nprogram.\n\nThere are multiple ways to optimize a Relay program. Below we will\nprovide examples for each of them.\n\nManually Apply Optimization Passes\n----------------------------------\n"
      ]
    },
    {
      "cell_type": "code",
      "execution_count": null,
      "metadata": {
        "collapsed": false
      },
      "outputs": [],
      "source": [
        "# Let's first create a relay Module which contains one or multiple Relay\n# functions for optimization.\nf = example()\nmod = tvm.IRModule.from_expr(f)\n\n# Now we can apply constant folding on the module.\n# fold_const here is a callback that doesn't take any parameters.\nfold_const = relay.transform.FoldConstant()\n# Then, we can invoke the pass on the given module. Note that the constant\n# folding pass works at the function-level. That being said, each function in\n# the module will be applied with the optimization. Users don't need to iterate\n# through individual functions manually to apply this pass.\nmod = fold_const(mod)\n# We can see from the updated program that the constants are folded.\nprint(mod)"
      ]
    },
    {
      "cell_type": "markdown",
      "metadata": {},
      "source": [
        "More optimizations can be applied in the similar manner. For instance,\nwe can eliminate the common expressions that used by [z]{.title-ref} and\n[z1]{.title-ref}.\n"
      ]
    },
    {
      "cell_type": "code",
      "execution_count": null,
      "metadata": {
        "collapsed": false
      },
      "outputs": [],
      "source": [
        "mod = relay.transform.EliminateCommonSubexpr()(mod)\nprint(mod)"
      ]
    },
    {
      "cell_type": "markdown",
      "metadata": {},
      "source": [
        "Some optimizations, such as fusion, are parametric as well. For example,\nopt level 0 will not allow operators to be fused together. Users can\npass the [fuse\\_opt\\_level]{.title-ref} to enable this.\n"
      ]
    },
    {
      "cell_type": "code",
      "execution_count": null,
      "metadata": {
        "collapsed": false
      },
      "outputs": [],
      "source": [
        "mod = relay.transform.FuseOps(fuse_opt_level=0)(mod)\n\n# We can observe that the optimized module contains functions that only have\n# a signle primitive op.\nprint(mod)"
      ]
    },
    {
      "cell_type": "markdown",
      "metadata": {},
      "source": [
        "Use Sequential to Apply a Sequence of Passes\n============================================\n\nApplying passes as above is actually tedious and it may require users to\nhave better understanding about the dependencies between them. For\nexample, fusion currently doesn\\'t work well on let bindings. Therefore,\nwe would not be able to fuse operators that were fusable if\n:py`relay.transform.ToANormalForm`{.interpreted-text role=\"func\"} is\napplied before fusion, as this pass generates let bindings for each\nexpression to canonicalize a Relay program.\n\nRelay, hence, provides :py`tvm.transform.Sequential`{.interpreted-text\nrole=\"class\"} to alleviate developers from handling these issues\nexplicitly by specifying the required passes of each pass and packing\nthem as a whole to execute. For example, the same passes can now be\napplied using the sequential style as the following.\n:py`tvm.transform.Sequential`{.interpreted-text role=\"class\"} is similar\nto\n[torch.nn.sequential](https://pytorch.org/docs/stable/nn.html#torch.nn.Sequential)\nand\n[mxnet.gluon.block](https://mxnet.apache.org/api/python/docs/_modules/mxnet/gluon/block.html).\nFor example, [torch.nn.sequential]{.title-ref} is used to contain a\nsequence of PyTorch [Modules]{.title-ref} that will be added to build a\nnetwork. It focuses on the network layers. Instead, the\n:py`tvm.transform.Sequential`{.interpreted-text role=\"class\"} in our\npass infra works on the optimizing pass.\n"
      ]
    },
    {
      "cell_type": "code",
      "execution_count": null,
      "metadata": {
        "collapsed": false
      },
      "outputs": [],
      "source": [
        "# Now let's execute some passes through :py:class:`tvm.transform.Sequential`\nf = example()\nmod = tvm.IRModule.from_expr(f)\n# Glob the interested passes.\nseq = tvm.transform.Sequential(\n    [\n        relay.transform.FoldConstant(),\n        relay.transform.EliminateCommonSubexpr(),\n        relay.transform.FuseOps(fuse_opt_level=2),\n    ]\n)\nmod1 = seq(mod)\nprint(mod1)"
      ]
    },
    {
      "cell_type": "markdown",
      "metadata": {},
      "source": [
        "From the transformed Relay program, we can see that there are still two\nidentical addition operations. This is because `EliminateCommonSubexpr`\nwas not actually performed. The reason is because only the passes that\nhave optimization level less or equal to 2 will be executed by default\nunder :py`tvm.transform.Sequential`{.interpreted-text role=\"class\"}. The\npass infra, however, provides a configuration interface for users to\ncustomize the optimization level that they want to execute.\n"
      ]
    },
    {
      "cell_type": "code",
      "execution_count": null,
      "metadata": {
        "collapsed": false
      },
      "outputs": [],
      "source": [
        "with tvm.transform.PassContext(opt_level=3):\n    mod2 = seq(mod)\nprint(mod2)"
      ]
    },
    {
      "cell_type": "markdown",
      "metadata": {},
      "source": [
        "Now we can see that only one of the two identical additions is kept.\n\nIn addition, users can selectively disable some passes using the\n[disabled\\_pass]{.title-ref} config, which is similar to the\n[-fno-xxx]{.title-ref} option used the general purpose compilers, such\nas Clang and GCC. For example, we can disable EliminateCommonSubexpr as\nfollowing. The printed module will again show two identical addition\noperations.\n"
      ]
    },
    {
      "cell_type": "code",
      "execution_count": null,
      "metadata": {
        "collapsed": false
      },
      "outputs": [],
      "source": [
        "with tvm.transform.PassContext(opt_level=3, disabled_pass=[\"EliminateCommonSubexpr\"]):\n    mod3 = seq(mod)\nprint(mod3)"
      ]
    },
    {
      "cell_type": "markdown",
      "metadata": {},
      "source": [
        "Implement a Pass Using Python Decorator\n=======================================\n\nThe next example illustrates how we can orchestrate a customized\noptimization pipeline through the pass infra using Python decorators.\nThis functionality greatly eases the implementation of passes. For\nexample, users can simply define a decorated class to do function-level\noptimizations as the following example shows.\n[transform\\_function]{.title-ref} wraps a class to replace all constants\nwith a multiple of [c]{.title-ref}. Later on, each function in a given\nmodule will be visited and each constant in the function will be\nreplaced when we invoke the customized pass.\n"
      ]
    },
    {
      "cell_type": "code",
      "execution_count": null,
      "metadata": {
        "collapsed": false
      },
      "outputs": [],
      "source": [
        "@relay.transform.function_pass(opt_level=1)\nclass CustomPipeline:\n    \"\"\"Simple test function to replace one argument to another.\"\"\"\n\n    def __init__(self, multiplier):\n        self.multiplier = multiplier\n\n    # This function can define a pass.\n    def transform_function(self, func, mod, ctx):\n        obj = self\n\n        class ReplaceConstant(tvm.relay.ExprMutator):\n            def visit_constant(self, c):\n                return relay.multiply(obj.multiplier, c)\n\n        return ReplaceConstant().visit(func)\n\n\nf = example()\nmod = tvm.IRModule.from_expr(f)\ncustom_pass = CustomPipeline(multiplier=relay.const(3, \"float32\"))\nassert custom_pass.info.name == \"CustomPipeline\"\nmod3 = custom_pass(mod)\nprint(mod3)"
      ]
    },
    {
      "cell_type": "markdown",
      "metadata": {},
      "source": [
        "Debug a Pass\n============\n\nTVM provides users a plug-and-play style debugging pass that print the\nIR after a certain pass is done through a special pass (`PrintIR`) to\ndump the IR of the whole module. A slightly modified version of the\nsequential pass example could be like the following to enable IR dumping\nfor `FoldConstant` optimization.\n"
      ]
    },
    {
      "cell_type": "code",
      "execution_count": null,
      "metadata": {
        "collapsed": false
      },
      "outputs": [],
      "source": [
        "f = example()\nmod = tvm.IRModule.from_expr(f)\nseq = tvm.transform.Sequential(\n    [\n        relay.transform.FoldConstant(),\n        tvm.transform.PrintIR(),\n        relay.transform.EliminateCommonSubexpr(),\n        relay.transform.FuseOps(),\n    ]\n)"
      ]
    },
    {
      "cell_type": "markdown",
      "metadata": {},
      "source": [
        "By inserting the `PrintIR` pass after `FoldConstant`, the pass infra\nwill dump out the module IR when `FoldConstant` is done. Users can plug\nin this pass after any pass they want to debug for viewing the\noptimization effect.\n\nThere is a more flexible debugging mechanism. One can implement a\n`PassInstrument` class to execute arbitrary code not only before and/or\nafter each pass but also at entering/exiting `PassContext`. See\n`pass_instrument_cpp_backend`{.interpreted-text role=\"ref\"} for more\ndetails.\n\nHere we use :py::func\\`tvm.instrument.pass\\_instrument\\` decorator to\nimplement a PassInsturment class printing IR before execution of each\npasses:\n"
      ]
    },
    {
      "cell_type": "code",
      "execution_count": null,
      "metadata": {
        "collapsed": false
      },
      "outputs": [],
      "source": [
        "@tvm.instrument.pass_instrument\nclass PrintIR:\n    \"\"\"Print the name of the pass, the IR, only before passes execute.\"\"\"\n\n    def run_before_pass(self, mod, info):\n        print(\"Running pass: {}\", info)\n        print(mod)\n\n\nwith tvm.transform.PassContext(opt_level=3, instruments=[PrintIR()]):\n    with tvm.target.Target(\"llvm\"):\n        # Perform the optimizations.\n        mod = seq(mod)\nprint(mod)\n\nprint(\"done\")"
      ]
    },
    {
      "cell_type": "markdown",
      "metadata": {},
      "source": [
        "Summary\n=======\n\nThis tutorial has covered how we can write and invoke passes in TVM more\nconveniently using the pass infra. Different ways of invoking a pass are\nalso discussed. Using :py`tvm.transform.Sequential`{.interpreted-text\nrole=\"class\"} can largely help users to ease the work of handling\nmultiple optimization passes and their dependencies. In addition, an\nexample is provided to illustrate how we can debug a pass using the\n`PrintIR` and tracing.\n"
      ]
    }
  ],
  "metadata": {
    "kernelspec": {
      "display_name": "Python 3",
      "language": "python",
      "name": "python3"
    },
    "language_info": {
      "codemirror_mode": {
        "name": "ipython",
        "version": 3
      },
      "file_extension": ".py",
      "mimetype": "text/x-python",
      "name": "python",
      "nbconvert_exporter": "python",
      "pygments_lexer": "ipython3",
      "version": "3.8.10"
    }
  },
  "nbformat": 4,
  "nbformat_minor": 0
}